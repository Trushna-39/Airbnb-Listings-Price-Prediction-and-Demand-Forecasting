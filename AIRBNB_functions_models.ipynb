{
 "cells": [
  {
   "cell_type": "code",
   "execution_count": 5,
   "id": "06ccae7a",
   "metadata": {},
   "outputs": [],
   "source": [
    "\n",
    "import numpy as np\n",
    "import pandas as pd\n",
    "from sklearn.model_selection import train_test_split\n",
    "from sklearn.metrics import mean_squared_error, mean_absolute_error, r2_score\n",
    "from catboost import CatBoostRegressor\n",
    "from xgboost import XGBRegressor\n",
    "from sklearn.ensemble import RandomForestRegressor\n",
    "from sklearn.linear_model import ElasticNet\n",
    "\n",
    "\n"
   ]
  },
  {
   "cell_type": "code",
   "execution_count": 6,
   "id": "09a57a01",
   "metadata": {},
   "outputs": [],
   "source": [
    "def evaluate_regression_models(X, y, test_size=0.2, random_state=42):\n",
    "    \"\"\"\n",
    "    Function to evaluate regression models including CatBoost, XGBoost, Random Forest, and Elastic Net.\n",
    "\n",
    "    Parameters:\n",
    "        X (pd.DataFrame): Features dataframe.\n",
    "        y (pd.Series): Target variable.\n",
    "        test_size (float): Fraction of the data to be used as the test set (default=0.2).\n",
    "        random_state (int): Random seed (default=42).\n",
    "\n",
    "    Returns:\n",
    "        dict: A dictionary containing evaluation scores and matrices for each model.\n",
    "    \"\"\"\n",
    "    # Split data into training and test sets\n",
    "    X_train, X_test, y_train, y_test = train_test_split(X, y, test_size=test_size, random_state=random_state)\n",
    "\n",
    "    # Initialize the models\n",
    "    models = {\n",
    "        'CatBoost': CatBoostRegressor(random_state=random_state, silent=True),\n",
    "        'XGBoost': XGBRegressor(random_state=random_state, verbosity=0),\n",
    "        'RandomForest': RandomForestRegressor(random_state=random_state),\n",
    "        'ElasticNet': ElasticNet(random_state=random_state)\n",
    "    }\n",
    "\n",
    "    evaluation_results = {}\n",
    "\n",
    "    for model_name, model in models.items():\n",
    "        # Train the model\n",
    "        model.fit(X_train, y_train)\n",
    "\n",
    "        # Make predictions\n",
    "        y_pred = model.predict(X_test)\n",
    "\n",
    "        # Calculate evaluation metrics\n",
    "        mse = mean_squared_error(y_test, y_pred)\n",
    "        mae = mean_absolute_error(y_test, y_pred)\n",
    "        r2 = r2_score(y_test, y_pred)\n",
    "\n",
    "        # Store evaluation results in a dictionary\n",
    "        evaluation_results[model_name] = {\n",
    "            'MSE': mse,\n",
    "            'MAE': mae,\n",
    "            'R2': r2,\n",
    "            'Predictions': y_pred\n",
    "        }\n",
    "\n",
    "    return evaluation_results"
   ]
  },
  {
   "cell_type": "code",
   "execution_count": 7,
   "id": "6dd4eec8",
   "metadata": {},
   "outputs": [
    {
     "ename": "NameError",
     "evalue": "name 'X' is not defined",
     "output_type": "error",
     "traceback": [
      "\u001b[1;31m---------------------------------------------------------------------------\u001b[0m",
      "\u001b[1;31mNameError\u001b[0m                                 Traceback (most recent call last)",
      "\u001b[1;32m~\\AppData\\Local\\Temp\\ipykernel_26896\\1927150307.py\u001b[0m in \u001b[0;36m<module>\u001b[1;34m\u001b[0m\n\u001b[0;32m      1\u001b[0m \u001b[1;31m# Assuming you have your X and y data loaded here\u001b[0m\u001b[1;33m\u001b[0m\u001b[1;33m\u001b[0m\u001b[1;33m\u001b[0m\u001b[0m\n\u001b[1;32m----> 2\u001b[1;33m \u001b[0mevaluation_results\u001b[0m \u001b[1;33m=\u001b[0m \u001b[0mevaluate_regression_models\u001b[0m\u001b[1;33m(\u001b[0m\u001b[0mX\u001b[0m\u001b[1;33m,\u001b[0m \u001b[0my\u001b[0m\u001b[1;33m)\u001b[0m\u001b[1;33m\u001b[0m\u001b[1;33m\u001b[0m\u001b[0m\n\u001b[0m\u001b[0;32m      3\u001b[0m \u001b[1;33m\u001b[0m\u001b[0m\n\u001b[0;32m      4\u001b[0m \u001b[1;31m# Print the evaluation results for each model\u001b[0m\u001b[1;33m\u001b[0m\u001b[1;33m\u001b[0m\u001b[1;33m\u001b[0m\u001b[0m\n\u001b[0;32m      5\u001b[0m \u001b[1;32mfor\u001b[0m \u001b[0mmodel_name\u001b[0m\u001b[1;33m,\u001b[0m \u001b[0mresults\u001b[0m \u001b[1;32min\u001b[0m \u001b[0mevaluation_results\u001b[0m\u001b[1;33m.\u001b[0m\u001b[0mitems\u001b[0m\u001b[1;33m(\u001b[0m\u001b[1;33m)\u001b[0m\u001b[1;33m:\u001b[0m\u001b[1;33m\u001b[0m\u001b[1;33m\u001b[0m\u001b[0m\n",
      "\u001b[1;31mNameError\u001b[0m: name 'X' is not defined"
     ]
    }
   ],
   "source": [
    "# Assuming you have your X and y data loaded here\n",
    "evaluation_results = evaluate_regression_models(X, y)\n",
    "\n",
    "# Print the evaluation results for each model\n",
    "for model_name, results in evaluation_results.items():\n",
    "    print(f\"Model: {model_name}\")\n",
    "    print(\"MSE:\", results['MSE'])\n",
    "    print(\"MAE:\", results['MAE'])\n",
    "    print(\"R2 Score:\", results['R2'])\n",
    "    print(\"\\n\")\n"
   ]
  },
  {
   "cell_type": "code",
   "execution_count": null,
   "id": "1c4dc943",
   "metadata": {},
   "outputs": [],
   "source": []
  }
 ],
 "metadata": {
  "kernelspec": {
   "display_name": "Python 3 (ipykernel)",
   "language": "python",
   "name": "python3"
  },
  "language_info": {
   "codemirror_mode": {
    "name": "ipython",
    "version": 3
   },
   "file_extension": ".py",
   "mimetype": "text/x-python",
   "name": "python",
   "nbconvert_exporter": "python",
   "pygments_lexer": "ipython3",
   "version": "3.7.9"
  }
 },
 "nbformat": 4,
 "nbformat_minor": 5
}
